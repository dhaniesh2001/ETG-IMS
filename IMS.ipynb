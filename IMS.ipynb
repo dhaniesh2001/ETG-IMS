{
  "nbformat": 4,
  "nbformat_minor": 0,
  "metadata": {
    "colab": {
      "name": "IMS",
      "provenance": []
    },
    "kernelspec": {
      "name": "python3",
      "display_name": "Python 3"
    },
    "language_info": {
      "name": "python"
    }
  },
  "cells": [
    {
      "cell_type": "code",
      "metadata": {
        "colab": {
          "base_uri": "https://localhost:8080/"
        },
        "id": "Np5pekFISU9o",
        "outputId": "4c9aaa4e-2982-4df7-d7d0-5f4ea4a2e2ac"
      },
      "source": [
        "import json\n",
        "with open('product data.json') as f:\n",
        "  data = json.load(f)\n",
        "print(\"Welcome to Inventory management system\")\n",
        "print(\"----------------------------------------------------------\")\n",
        "print(\"1.View Product details details : \")\n",
        "print(\"2.Search product : \")\n",
        "print(\"3.delete Product : \")\n",
        "print(\"4.Add new  Product: \")\n",
        "print(\"----------------------------------------------------------\")\n",
        "a = int(input(\"Enter choice : \"))\n",
        "if(a==1):\n",
        "  print(data)\n",
        "  \n",
        "if(a==2):\n",
        "       id = input(\"Enter id : \")\n",
        "       print (data[id])\n",
        "if(a==3):\n",
        "       id = input(\"Enter id : \")\n",
        "       print('Item deleted sucessfully')\n",
        "       del data[id]\n",
        "       print(data)\n",
        "      \n",
        "if(a==4):\n",
        "       New_id = input(\"Enter the id : \")\n",
        "       New_name = input(\"Enter the Name : \")\n",
        "       New_price = input(\"Enter the price : \")\n",
        "       New_quantity = input(\"Enter the quantity : \")\n",
        "       New_category = input(\"Enter the category : \")\n",
        "       New_rating= input(\"Enter rating : \")\n",
        "       data[New_id] = {'name': New_name,'price':New_price,'quantity':New_quantity,'category':New_category,'rating':New_rating}\n",
        "\n",
        "\n",
        "       js = json.dumps(data)\n",
        "       \n",
        "       \n",
        "       f =  open(\"student.json\",\"w\")\n",
        "       f.write(js)\n",
        "       f.close()\n",
        "       print(\"Record added successfully !!!\")\n",
        "\n"
      ],
      "execution_count": 4,
      "outputs": [
        {
          "output_type": "stream",
          "name": "stdout",
          "text": [
            "Welcome to Inventory management system\n",
            "----------------------------------------------------------\n",
            "1.View Product details details : \n",
            "2.Search product : \n",
            "3.delete Product : \n",
            "4.Add new  Product: \n",
            "----------------------------------------------------------\n",
            "Enter choice : 2\n",
            "Enter id : 1201\n",
            "{'item': 'dettolantiseptic', 'price': 80, 'quantity': 100, 'category': 'medicine', 'rating': 8}\n"
          ]
        }
      ]
    }
  ]
}